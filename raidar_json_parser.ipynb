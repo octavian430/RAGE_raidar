{
 "cells": [
  {
   "cell_type": "markdown",
   "metadata": {},
   "source": [
    "Current plan of action is to create encounter and player classes to organize the data. Then use these classes to\n",
    "construct a data frame. \n",
    "\n",
    "Initial Columns:\n",
    "- account\n",
    "- character\n",
    "- class\n",
    "- type (condi, power, support)\n",
    "- boss\n",
    "- kill time\n",
    "- all dps\n",
    "- incoming dps\n",
    "- phase dps\n",
    "- power dps\n",
    "- condi dps\n",
    "- dead\n",
    "- success/fail\n",
    "- mechanics\n",
    "- boon uptime"
   ]
  },
  {
   "cell_type": "code",
   "execution_count": 1,
   "metadata": {},
   "outputs": [],
   "source": [
    "import requests\n",
    "import pandas as pd\n",
    "from pandas.io.json import json_normalize"
   ]
  },
  {
   "cell_type": "markdown",
   "metadata": {},
   "source": [
    "### Load test case JSON"
   ]
  },
  {
   "cell_type": "markdown",
   "metadata": {},
   "source": [
    "Import Credentials"
   ]
  },
  {
   "cell_type": "code",
   "execution_count": 3,
   "metadata": {},
   "outputs": [],
   "source": [
    "from raidar_credentials import *"
   ]
  },
  {
   "cell_type": "markdown",
   "metadata": {},
   "source": [
    "Query Raidar"
   ]
  },
  {
   "cell_type": "code",
   "execution_count": 4,
   "metadata": {},
   "outputs": [],
   "source": [
    "login = {\n",
    "    'username': (None, username),\n",
    "    'password': (None, password),\n",
    "}\n",
    "\n",
    "token = requests.post('https://www.gw2raidar.com/api/v2/token', files=login)\n",
    "\n",
    "authentication = 'token ' + token.json()['token']\n",
    "headers = {'Authorization': authentication}\n",
    "\n",
    "test = requests.get('https://gw2raidar.com/encounter/AngrilyDealsFoundersFoldedConcentrates.json', headers = headers)\n"
   ]
  },
  {
   "cell_type": "markdown",
   "metadata": {},
   "source": [
    "### Define Class to retrieve basic encounter data"
   ]
  },
  {
   "cell_type": "code",
   "execution_count": null,
   "metadata": {},
   "outputs": [],
   "source": [
    "class Encounter:\n",
    "   def __init__(self, file):\n",
    "        self.boss = file.json()['encounter']['name']\n",
    "        self.success = file.json()['encounter']['success']\n",
    "        self.subsquads = len(file.json()['encounter']['parties'])\n",
    "        self.pull_time = test.json()['encounter']['duration']\n",
    "        self.pull_id = test.json()['encounter']['id']"
   ]
  },
  {
   "cell_type": "markdown",
   "metadata": {},
   "source": [
    "## testing/scrap code"
   ]
  },
  {
   "cell_type": "code",
   "execution_count": 5,
   "metadata": {},
   "outputs": [
    {
     "name": "stdout",
     "output_type": "stream",
     "text": [
      "Fatalyz.7168\n",
      "SudoKudos.4371\n",
      "TheBeelzebub.8976\n",
      "sniper general.3549\n",
      "Amanda.5871\n",
      "Ceriph.3518\n",
      "Octavian.9736\n",
      "NYAN.7356\n",
      "Aberdeen.6792\n",
      "Cicatriz.7426\n"
     ]
    }
   ],
   "source": [
    "# prints off a list of all accounts in the squad. Use this list to initialize an instance of a class with each players\n",
    "# associated data\n",
    "for party in test.json()['encounter']['parties']:\n",
    "    for person in test.json()['encounter']['parties'][party]['members']:\n",
    "        print(person['account'])"
   ]
  },
  {
   "cell_type": "code",
   "execution_count": 6,
   "metadata": {},
   "outputs": [
    {
     "data": {
      "text/html": [
       "<div>\n",
       "<style scoped>\n",
       "    .dataframe tbody tr th:only-of-type {\n",
       "        vertical-align: middle;\n",
       "    }\n",
       "\n",
       "    .dataframe tbody tr th {\n",
       "        vertical-align: top;\n",
       "    }\n",
       "\n",
       "    .dataframe thead th {\n",
       "        text-align: right;\n",
       "    }\n",
       "</style>\n",
       "<table border=\"1\" class=\"dataframe\">\n",
       "  <thead>\n",
       "    <tr style=\"text-align: right;\">\n",
       "      <th></th>\n",
       "      <th>condi</th>\n",
       "      <th>condi_dps</th>\n",
       "      <th>crit</th>\n",
       "      <th>dps</th>\n",
       "      <th>fifty</th>\n",
       "      <th>flanking</th>\n",
       "      <th>percentage</th>\n",
       "      <th>power</th>\n",
       "      <th>power_dps</th>\n",
       "      <th>scholar</th>\n",
       "      <th>seaweed</th>\n",
       "      <th>total</th>\n",
       "    </tr>\n",
       "  </thead>\n",
       "  <tbody>\n",
       "    <tr>\n",
       "      <th>0</th>\n",
       "      <td>4426708</td>\n",
       "      <td>11245</td>\n",
       "      <td>73.4</td>\n",
       "      <td>13213</td>\n",
       "      <td>48.0</td>\n",
       "      <td>97.3</td>\n",
       "      <td>17.5</td>\n",
       "      <td>774775</td>\n",
       "      <td>1968</td>\n",
       "      <td>88.2</td>\n",
       "      <td>19.5</td>\n",
       "      <td>5201483</td>\n",
       "    </tr>\n",
       "  </tbody>\n",
       "</table>\n",
       "</div>"
      ],
      "text/plain": [
       "     condi  condi_dps  crit    dps  fifty  flanking  percentage   power  \\\n",
       "0  4426708      11245  73.4  13213   48.0      97.3        17.5  774775   \n",
       "\n",
       "   power_dps  scholar  seaweed    total  \n",
       "0       1968     88.2     19.5  5201483  "
      ]
     },
     "execution_count": 6,
     "metadata": {},
     "output_type": "execute_result"
    }
   ],
   "source": [
    "# accesses basic dps info\n",
    "json_normalize(test.json()['encounter']['parties']['1']['members'][0]['phases']['All']['actual_boss'])"
   ]
  }
 ],
 "metadata": {
  "kernelspec": {
   "display_name": "Python 3",
   "language": "python",
   "name": "python3"
  },
  "language_info": {
   "codemirror_mode": {
    "name": "ipython",
    "version": 3
   },
   "file_extension": ".py",
   "mimetype": "text/x-python",
   "name": "python",
   "nbconvert_exporter": "python",
   "pygments_lexer": "ipython3",
   "version": "3.6.6"
  }
 },
 "nbformat": 4,
 "nbformat_minor": 2
}
